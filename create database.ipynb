{
 "cells": [
  {
   "cell_type": "code",
   "execution_count": 9,
   "id": "30beeb99",
   "metadata": {},
   "outputs": [],
   "source": [
    "import sqlite3"
   ]
  },
  {
   "cell_type": "code",
   "execution_count": 10,
   "id": "64515e5f",
   "metadata": {},
   "outputs": [],
   "source": [
    "import datetime"
   ]
  },
  {
   "cell_type": "code",
   "execution_count": 11,
   "id": "8b260cfe",
   "metadata": {},
   "outputs": [],
   "source": [
    "conn = sqlite3.connect(\"log.db\")"
   ]
  },
  {
   "cell_type": "code",
   "execution_count": 12,
   "id": "979cb14c",
   "metadata": {},
   "outputs": [
    {
     "data": {
      "text/plain": [
       "<sqlite3.Cursor at 0x18439116ac0>"
      ]
     },
     "execution_count": 12,
     "metadata": {},
     "output_type": "execute_result"
    }
   ],
   "source": [
    "conn.execute(\"create table employee (name text,timestamp timestamp)\")"
   ]
  },
  {
   "cell_type": "code",
   "execution_count": 13,
   "id": "3474413f",
   "metadata": {},
   "outputs": [],
   "source": [
    "conn.close()"
   ]
  },
  {
   "cell_type": "code",
   "execution_count": 14,
   "id": "db740e7e",
   "metadata": {},
   "outputs": [],
   "source": [
    "conn = sqlite3.connect(\"log.db\")"
   ]
  },
  {
   "cell_type": "code",
   "execution_count": 15,
   "id": "d50991af",
   "metadata": {},
   "outputs": [],
   "source": [
    "c = conn.execute(\"select * from employee\")"
   ]
  },
  {
   "cell_type": "code",
   "execution_count": 16,
   "id": "a1ce0e4a",
   "metadata": {},
   "outputs": [
    {
     "data": {
      "text/plain": [
       "(('name', None, None, None, None, None, None),\n",
       " ('timestamp', None, None, None, None, None, None))"
      ]
     },
     "execution_count": 16,
     "metadata": {},
     "output_type": "execute_result"
    }
   ],
   "source": [
    "c.description"
   ]
  },
  {
   "cell_type": "code",
   "execution_count": 17,
   "id": "b541748f",
   "metadata": {},
   "outputs": [
    {
     "data": {
      "text/plain": [
       "<function Cursor.close()>"
      ]
     },
     "execution_count": 17,
     "metadata": {},
     "output_type": "execute_result"
    }
   ],
   "source": [
    "c.close"
   ]
  },
  {
   "cell_type": "code",
   "execution_count": 18,
   "id": "0b07cb0b",
   "metadata": {},
   "outputs": [],
   "source": [
    "conn.close()"
   ]
  },
  {
   "cell_type": "code",
   "execution_count": 19,
   "id": "f73a57ba",
   "metadata": {},
   "outputs": [],
   "source": [
    "conn = sqlite3.connect(\"log.db\")"
   ]
  },
  {
   "cell_type": "code",
   "execution_count": 20,
   "id": "9ae19ee9",
   "metadata": {},
   "outputs": [],
   "source": [
    "c = conn.cursor()"
   ]
  },
  {
   "cell_type": "code",
   "execution_count": 21,
   "id": "3f49ce70",
   "metadata": {},
   "outputs": [],
   "source": [
    "name = \"aa\"\n",
    "timestamp = datetime.datetime.now()\n",
    "c.execute(\"insert into employee (name,timestamp) values(?,?)\",(name,timestamp))\n",
    "conn.commit()"
   ]
  },
  {
   "cell_type": "code",
   "execution_count": 22,
   "id": "f69c533a",
   "metadata": {},
   "outputs": [],
   "source": [
    "c.close()\n",
    "conn.close()"
   ]
  },
  {
   "cell_type": "code",
   "execution_count": 27,
   "id": "3718a356",
   "metadata": {},
   "outputs": [],
   "source": [
    "conn = sqlite3.connect(\"log.db\")\n",
    "c = conn.execute(\"select * from employee\")"
   ]
  },
  {
   "cell_type": "code",
   "execution_count": 28,
   "id": "9295ce62",
   "metadata": {},
   "outputs": [
    {
     "name": "stdout",
     "output_type": "stream",
     "text": [
      "('aa', '2024-04-01 17:21:01.147165')\n",
      "('WANG WEIHUA', '2024-04-01 17:27:33.478822')\n"
     ]
    }
   ],
   "source": [
    "row =\"\"\n",
    "for row in c:\n",
    "    print(row)"
   ]
  },
  {
   "cell_type": "code",
   "execution_count": 25,
   "id": "06c27fea",
   "metadata": {},
   "outputs": [],
   "source": [
    "c.close()\n",
    "conn.close()"
   ]
  },
  {
   "cell_type": "raw",
   "id": "893072af",
   "metadata": {},
   "source": []
  },
  {
   "cell_type": "code",
   "execution_count": null,
   "id": "2ba36bc7",
   "metadata": {},
   "outputs": [],
   "source": []
  }
 ],
 "metadata": {
  "kernelspec": {
   "display_name": "Python 3 (ipykernel)",
   "language": "python",
   "name": "python3"
  },
  "language_info": {
   "codemirror_mode": {
    "name": "ipython",
    "version": 3
   },
   "file_extension": ".py",
   "mimetype": "text/x-python",
   "name": "python",
   "nbconvert_exporter": "python",
   "pygments_lexer": "ipython3",
   "version": "3.11.4"
  }
 },
 "nbformat": 4,
 "nbformat_minor": 5
}
